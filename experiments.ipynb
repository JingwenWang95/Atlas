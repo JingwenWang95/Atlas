{
 "cells": [
  {
   "cell_type": "code",
   "execution_count": 1,
   "id": "37926166",
   "metadata": {},
   "outputs": [],
   "source": [
    "from atlas.tsdf import coordinates"
   ]
  },
  {
   "cell_type": "code",
   "execution_count": 2,
   "id": "1ff7d8a6",
   "metadata": {},
   "outputs": [
    {
     "name": "stderr",
     "output_type": "stream",
     "text": [
      "/home/jingwen/anaconda3/envs/atlas/lib/python3.7/site-packages/torch/functional.py:445: UserWarning: torch.meshgrid: in an upcoming release, it will be required to pass the indexing argument. (Triggered internally at  /opt/conda/conda-bld/pytorch_1639180594101/work/aten/src/ATen/native/TensorShape.cpp:2157.)\n",
      "  return _VF.meshgrid(tensors, **kwargs)  # type: ignore[attr-defined]\n"
     ]
    }
   ],
   "source": [
    "v = coordinates([128, 128, 64])"
   ]
  },
  {
   "cell_type": "code",
   "execution_count": 3,
   "id": "bafff5b9",
   "metadata": {},
   "outputs": [
    {
     "data": {
      "text/plain": [
       "tensor([[  0,   0,   0,  ..., 127, 127, 127],\n",
       "        [  0,   0,   0,  ..., 127, 127, 127],\n",
       "        [  0,   1,   2,  ...,  61,  62,  63]], device='cuda:0')"
      ]
     },
     "execution_count": 3,
     "metadata": {},
     "output_type": "execute_result"
    }
   ],
   "source": [
    "v"
   ]
  },
  {
   "cell_type": "code",
   "execution_count": null,
   "id": "0380d69b",
   "metadata": {},
   "outputs": [],
   "source": []
  }
 ],
 "metadata": {
  "kernelspec": {
   "display_name": "Python 3 (ipykernel)",
   "language": "python",
   "name": "python3"
  },
  "language_info": {
   "codemirror_mode": {
    "name": "ipython",
    "version": 3
   },
   "file_extension": ".py",
   "mimetype": "text/x-python",
   "name": "python",
   "nbconvert_exporter": "python",
   "pygments_lexer": "ipython3",
   "version": "3.7.11"
  }
 },
 "nbformat": 4,
 "nbformat_minor": 5
}
